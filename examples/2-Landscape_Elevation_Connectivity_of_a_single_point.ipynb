{
 "cells": [
  {
   "cell_type": "markdown",
   "metadata": {},
   "source": [
    "# Landscape Elevation Connectivity of a single point\n",
    "\n",
    "Here the goal is to pick a single point, somewhere in our mesh, and calculate its Landscape Elevation Connectivity (LEC) value.\n",
    "\n",
    "This notebook will show you:\n",
    "- how to load a mesh into `gLEC`, \n",
    "- how to use some of its functions, including calculating the LEC, for a single point,\n",
    "\n",
    "This notebook includes a lot of code for visualising the mesh, and the point on it. These bits of code are not necessary for using gLEC, so feel free to skip reading those code chunks. They will be marked as:\n",
    "```python\n",
    "# VISUALISATION CODE\n",
    "```"
   ]
  },
  {
   "cell_type": "code",
   "execution_count": null,
   "metadata": {},
   "outputs": [],
   "source": [
    "import meshio\n",
    "import numpy as np\n",
    "from multiprocessing import Pool\n",
    "import time\n",
    "\n",
    "import matplotlib\n",
    "import matplotlib.pyplot as plt\n",
    "from matplotlib.path import Path\n",
    "from mpl_toolkits.axes_grid1 import make_axes_locatable\n",
    "from mpl_toolkits.axes_grid1.inset_locator import zoomed_inset_axes, mark_inset\n",
    "import matplotlib.tri as mtri\n",
    "\n",
    "label_size = 8\n",
    "matplotlib.rcParams['xtick.labelsize'] = label_size \n",
    "matplotlib.rcParams['ytick.labelsize'] = label_size\n",
    "\n",
    "%matplotlib inline\n",
    "%config InlineBackend.figure_format = 'svg' \n",
    "\n",
    "from gLEC.gLEC import gLEC"
   ]
  },
  {
   "cell_type": "markdown",
   "metadata": {},
   "source": [
    "# Load the mesh\n",
    "\n",
    "The first step is to load in a mesh file, using `meshio`. This notebook assumes you have run the `1-Prepare_mesh` notebook first, however, it should work OK with other meshes."
   ]
  },
  {
   "cell_type": "code",
   "execution_count": null,
   "metadata": {},
   "outputs": [],
   "source": [
    "infile = \"output_data/AUS_LR.vtk\"\n",
    "\n",
    "mesh = meshio.read(infile)"
   ]
  },
  {
   "cell_type": "markdown",
   "metadata": {},
   "source": [
    "We can visualise it with matplotlib:"
   ]
  },
  {
   "cell_type": "code",
   "execution_count": null,
   "metadata": {},
   "outputs": [],
   "source": [
    "# VISUALISATION CODE\n",
    "triang = mtri.Triangulation(mesh.points[:,0], mesh.points[:,1], mesh.cells[0].data)\n",
    "fig, ax = plt.subplots()\n",
    "ax.triplot(triang, zorder=1)\n",
    "ax.set_aspect('equal')"
   ]
  },
  {
   "cell_type": "markdown",
   "metadata": {},
   "source": [
    "# Create a gLEC object\n",
    "\n",
    "Now that we have a mesh, let's create a `gLEC` object. Beyond just calculating the LEC of a region, the `gLEC` object can help us with a few other tasks too. \n",
    "\n",
    "Creating a basic `gLEC` object is done like this:"
   ]
  },
  {
   "cell_type": "code",
   "execution_count": null,
   "metadata": {},
   "outputs": [],
   "source": [
    "lec_calculator = gLEC(mesh, max_fuel = 1000)"
   ]
  },
  {
   "cell_type": "markdown",
   "metadata": {},
   "source": [
    "# Pick a starting point\n",
    "\n",
    "In this notebooks, we want to do an LEC analysis of a single point - so let's pick a starting point!\n",
    "\n",
    "We don't need a particular point, so we could do something like this:\n",
    "```python\n",
    "starting_point = 0\n",
    "```\n",
    "which would use the first point defined in the mesh.\n",
    "\n",
    "However, for this example, it is useful to pick a point that is easy to see and distinquish, so we use this function to find a better one:"
   ]
  },
  {
   "cell_type": "code",
   "execution_count": null,
   "metadata": {},
   "outputs": [],
   "source": [
    "starting_point = mesh.points.shape[0]//9 * 8"
   ]
  },
  {
   "cell_type": "code",
   "execution_count": null,
   "metadata": {},
   "outputs": [],
   "source": [
    "print(f'Starting point index: {starting_point}')\n",
    "print(f'Starting point value:\\n{mesh.points[starting_point,:]}')"
   ]
  },
  {
   "cell_type": "markdown",
   "metadata": {},
   "source": [
    "We can now see the point index, and also the X, Y, and Z values for it.\n",
    "\n",
    "However, it's much easier to understand if we visualise where the point is:"
   ]
  },
  {
   "cell_type": "code",
   "execution_count": null,
   "metadata": {},
   "outputs": [],
   "source": [
    "# VISUALISATION CODE\n",
    "fig, ax = plt.subplots()\n",
    "ax.triplot(triang, zorder=1)\n",
    "ax.set_aspect('equal')\n",
    "\n",
    "# Plot the starting point on as a yellow dot\n",
    "ax.scatter(mesh.points[starting_point,0],\n",
    "           mesh.points[starting_point,1],\n",
    "           c='yellow', s =20, zorder=3)"
   ]
  },
  {
   "cell_type": "markdown",
   "metadata": {},
   "source": [
    "# Find a nearby neighbour\n",
    "\n",
    "Before we do a full LEC analysis of this single point, we can do some quick checks of our data, and use some of the functions `gLEC` can provide.\n",
    "\n",
    "To do this, we need to find a point that is a nearby neighbour of our chosen starting point. `gLEC` has a function for doing this for us:"
   ]
  },
  {
   "cell_type": "code",
   "execution_count": null,
   "metadata": {},
   "outputs": [],
   "source": [
    "nearby_points = lec_calculator.neighbours_func(starting_point)"
   ]
  },
  {
   "cell_type": "code",
   "execution_count": null,
   "metadata": {},
   "outputs": [],
   "source": [
    "print(f'Nearby points indexs: {nearby_points}')\n",
    "print(f'Nearby points values:\\n{mesh.points[nearby_points,:]}')"
   ]
  },
  {
   "cell_type": "markdown",
   "metadata": {},
   "source": [
    "This shows that our starting point has a number of neighbours which it's directly connected to.\n",
    "\n",
    "We can visualise them, to get a better understanding of their connection"
   ]
  },
  {
   "cell_type": "code",
   "execution_count": null,
   "metadata": {},
   "outputs": [],
   "source": [
    "# VISUALISATION CODE\n",
    "\n",
    "# Choose the size and zoom of the inset\n",
    "zoom_min = np.min(mesh.points[nearby_points,:], axis=0)\n",
    "zoom_max = np.max(mesh.points[nearby_points,:], axis=0)\n",
    "zoom_span = zoom_max - zoom_min\n",
    "zoom_min -= zoom_span * 0.5\n",
    "zoom_max += zoom_span * 0.5\n",
    "\n",
    "total_min = np.min(mesh.points, axis=0)\n",
    "total_max = np.max(mesh.points, axis=0)\n",
    "total_span = total_max - total_min\n",
    "\n",
    "# Calculate how much zoom is needed for the size of mesh\n",
    "screen_percentage = 0.15\n",
    "zoom_factor = min(1 / (zoom_span[:2] / (total_span[:2] * screen_percentage)))\n",
    "\n",
    "fig, ax = plt.subplots(figsize=(10,10))\n",
    "\n",
    "# Plot the mesh at full scale\n",
    "ax.triplot(triang, zorder=1)\n",
    "\n",
    "# Plot the starting point at full scale\n",
    "ax.scatter(mesh.points[starting_point,0],\n",
    "           mesh.points[starting_point,1],\n",
    "           c='yellow', s =20, zorder=3)\n",
    "\n",
    "# Plot the nearby points at full scale\n",
    "ax.scatter(mesh.points[nearby_points,0],\n",
    "           mesh.points[nearby_points,1],\n",
    "           c='orange', s =20, zorder=2)\n",
    "ax.set_aspect('equal')\n",
    "\n",
    "# Now make an inset, and plot all the data again at that scale\n",
    "axins = zoomed_inset_axes(ax, zoom_factor, loc=2)\n",
    "\n",
    "# Plot the mesh \n",
    "axins.triplot(triang, zorder=1)\n",
    "\n",
    "# Plot the starting point\n",
    "axins.scatter(mesh.points[starting_point,0],\n",
    "           mesh.points[starting_point,1],\n",
    "           c='yellow', s =20, zorder=3)\n",
    "\n",
    "# Plot the nearby points\n",
    "axins.scatter(mesh.points[nearby_points,0],\n",
    "           mesh.points[nearby_points,1],\n",
    "           c='orange', s =20, zorder=2)\n",
    "\n",
    "axins.set_xlim(zoom_min[0], zoom_max[0])\n",
    "axins.set_ylim(zoom_min[1], zoom_max[1])\n",
    "axins.xaxis.set_visible('False')\n",
    "axins.yaxis.set_visible('False')\n",
    "_ = mark_inset(ax, axins, loc1=1, loc2=4, fc=\"none\", ec=\"0.5\")"
   ]
  },
  {
   "cell_type": "markdown",
   "metadata": {},
   "source": [
    "We only need one nearby point, so we'll pick the first one"
   ]
  },
  {
   "cell_type": "code",
   "execution_count": null,
   "metadata": {},
   "outputs": [],
   "source": [
    "nearby_point = nearby_points[0]\n",
    "print(f'Nearby point index: {nearby_point}')\n",
    "print(f'Nearby point value:\\n{mesh.points[nearby_point,:]}')"
   ]
  },
  {
   "cell_type": "markdown",
   "metadata": {},
   "source": [
    "## Comparing the points\n",
    "\n",
    "Now we have a `starting_point` and `nearby_point`, we can compare them 'by hand' before we do a LEC analysis. Again, this is just as a tool to show how the various parts of the `gLEC` tool work.\n",
    "\n",
    "### Elevation\n",
    "The elevation data is stored on the mesh `point_data`. We can show the values:"
   ]
  },
  {
   "cell_type": "code",
   "execution_count": null,
   "metadata": {},
   "outputs": [],
   "source": [
    "for point in (starting_point, nearby_point):\n",
    "    print(f\"Elevation of {point = } is {mesh.point_data['Z'][point]} m\")"
   ]
  },
  {
   "cell_type": "markdown",
   "metadata": {},
   "source": [
    "### Distance\n",
    "The distance between the points can be calculated using `gLEC`'s `dist_func`. It uses a euclidean distance function."
   ]
  },
  {
   "cell_type": "code",
   "execution_count": null,
   "metadata": {},
   "outputs": [],
   "source": [
    "dist = lec_calculator.dist_func(starting_point, nearby_point)"
   ]
  },
  {
   "cell_type": "code",
   "execution_count": null,
   "metadata": {},
   "outputs": [],
   "source": [
    "print(f\"Distance between {starting_point = } and {nearby_point = } is\\n{dist} m\")"
   ]
  },
  {
   "cell_type": "markdown",
   "metadata": {},
   "source": [
    "### Travel cost and the concept of 'fuel'\n",
    "\n",
    "The measure of LEC is to determine the connectivity between points based on their elevation change. Therefore, we need to evaluate the 'cost' of moving from point to another\n",
    "\n",
    "However, since we are potentially looking at global or regional scale meshes, it does not necessarily make sense to compare the elevation of points that are very far apart - for example, it is not particularly meaningful to compare the elevation of a point in Sydney, Australia to a point in Perth, Australia (some ~4,000 km away).\n",
    "\n",
    "To mitigate this, `gLEC` (by default) uses two methods:\n",
    "1. `gLEC`'s travel cost function is the change in elevation between two points, plus a small percentage of the horizontal distance between them (0.4% by default),\n",
    "2. `gLEC` uses the concept of 'fuel' - that is, each path to a point has a maximum amount of 'fuel' it can use. Between each point, fuel is used up by the cost of the jump. When a path runs out of fuel, it stops. The default is for a `gLEC` object to have 2000 units of fuel.\n",
    "\n",
    "Together, this means that the LEC analysis of a region is constrained in distance by the amount of fuel provided to `gLEC`. The normalised distance (i.e., the distance a path could cover with no elevation change) is therefore calculated by:\n",
    "\n",
    "$$\\frac{\\text{max fuel}}{\\text{horizontal distance fraction}} = \\text{normalised distance}$$\n",
    "\n",
    "In the default case then:\n",
    "\n",
    "$$\\frac{2000}{0.004} = 500,000 m$$\n",
    "\n",
    "Worded another way, the longest path from a point could possibly be is 500 km long.\n",
    "\n",
    "#### Travel cost\n",
    "\n",
    "We can use the travel cost function on our `starting_point` and `nearby_point` as such:"
   ]
  },
  {
   "cell_type": "code",
   "execution_count": null,
   "metadata": {},
   "outputs": [],
   "source": [
    "cost = lec_calculator.travel_cost_func(starting_point, nearby_point)"
   ]
  },
  {
   "cell_type": "code",
   "execution_count": null,
   "metadata": {},
   "outputs": [],
   "source": [
    "print(f\"The travel cost between {starting_point = } and {nearby_point = } is\\n{cost} units of fuel\")"
   ]
  },
  {
   "cell_type": "markdown",
   "metadata": {},
   "source": [
    "If we compare this cost to the real elevation change between the points:"
   ]
  },
  {
   "cell_type": "code",
   "execution_count": null,
   "metadata": {},
   "outputs": [],
   "source": [
    "elevation_change = abs(mesh.point_data['Z'][starting_point] - mesh.point_data['Z'][nearby_point])\n",
    "print(f\"{elevation_change = }\")"
   ]
  },
  {
   "cell_type": "markdown",
   "metadata": {},
   "source": [
    "We can see that the fuel cost is higher, since the horizontal distance is contributing to the cost."
   ]
  },
  {
   "cell_type": "markdown",
   "metadata": {},
   "source": [
    "# Performing a LEC analysis on a single point\n",
    "\n",
    "Now let's use `gLEC` to perform a LEC analysis on our starting point, and look at the data it gives us."
   ]
  },
  {
   "cell_type": "code",
   "execution_count": null,
   "metadata": {},
   "outputs": [],
   "source": [
    "came_from, cost_so_far, dist_so_far = lec_calculator.cost_search(starting_point)"
   ]
  },
  {
   "cell_type": "markdown",
   "metadata": {},
   "source": [
    "Before we look at those data structures, let's first visualise the paths that `gLEC` found to calculate the LEC:"
   ]
  },
  {
   "cell_type": "code",
   "execution_count": null,
   "metadata": {},
   "outputs": [],
   "source": [
    "# VISUALISATION CODE\n",
    "\n",
    "# Find all the nodes that are at the edge of the tree\n",
    "edge_nodes = []\n",
    "for k in came_from.keys():             # For all the points we've visited,\n",
    "    if k not in came_from.values():    # Find all the points that haven't been 'came_from'\n",
    "        edge_nodes.append(k)\n",
    "        \n",
    "# For each edge node, follow the path back to the starting point, and keep track of the points and costs along the way\n",
    "paths = []\n",
    "costs = []\n",
    "dists = []\n",
    "for p in edge_nodes:\n",
    "    point = p\n",
    "    cost = 0\n",
    "    new_points = []\n",
    "    new_costs = []\n",
    "    while point:\n",
    "        new_points.append(mesh.points[point])  # note, the points are being pulled from the VTK, so we get all their info\n",
    "        new_costs.append(cost_so_far[point])\n",
    "        point = came_from[point]\n",
    "\n",
    "    new_points = np.array(new_points)\n",
    "    new_costs  = np.array(new_costs)\n",
    "    paths.append(new_points)\n",
    "    costs.append(new_costs)\n",
    "\n",
    "fig, (zm, ax) = plt.subplots(1,2,figsize=(12,15))\n",
    "\n",
    "# Plot the mesh at full scale\n",
    "ax.triplot(triang, zorder=1)\n",
    "\n",
    "# Plot the starting point at full scale\n",
    "ax.scatter(mesh.points[starting_point,0],\n",
    "           mesh.points[starting_point,1],\n",
    "           c='red', s =10, zorder=6)\n",
    "\n",
    "norm = plt.Normalize(0, 1000)\n",
    "for p, c in zip(paths, costs):    \n",
    "    ax.plot(p[:,0], p[:,1], c='k', zorder=4)\n",
    "    ax.scatter(p[:,0], p[:,1], s =10, c=c, norm=norm, zorder=5)\n",
    "    \n",
    "ax.set_aspect('equal')\n",
    "\n",
    "\n",
    "# Plot the mesh \n",
    "zm.triplot(triang, zorder=1)\n",
    "\n",
    "# Plot the starting point\n",
    "zm.scatter(mesh.points[starting_point,0],\n",
    "           mesh.points[starting_point,1],\n",
    "           c='red', s =40, zorder=6)\n",
    "\n",
    "# Plot the nearby points\n",
    "for p, c in zip(paths, costs):    \n",
    "    zm.plot(p[:,0], p[:,1], c='k', linewidth=4, zorder=4)\n",
    "    zm.scatter(p[:,0], p[:,1], c=c, s=30, norm=norm, zorder=5)\n",
    "zm.set_aspect('equal')\n",
    "    \n",
    "# Choose the size and zoom of the inset\n",
    "zoom_min = np.min(np.vstack(paths), axis=0)\n",
    "zoom_max = np.max(np.vstack(paths), axis=0)\n",
    "span = zoom_max - zoom_min\n",
    "zoom_min -= span * 0.1\n",
    "zoom_max += span * 0.1\n",
    "zm.set_xlim(zoom_min[0], zoom_max[0])\n",
    "_ = zm.set_ylim(zoom_min[1], zoom_max[1])\n"
   ]
  },
  {
   "cell_type": "markdown",
   "metadata": {},
   "source": [
    "The above image shows all the paths outwards from our `starting_point` (shown in red) that `gLEC` calculated. Note that these are all lowest-cost paths - each one is the 'cheapest' way from the starting point to each coloured point.\n",
    "\n"
   ]
  },
  {
   "cell_type": "markdown",
   "metadata": {},
   "source": [
    "## Calculating the LEC value for our `starting_point`\n",
    "\n",
    "Measuring LEC is more ambigious on a triangular mesh, since: \n",
    "\n",
    "+ A point could potentially have many connected neighbours,\n",
    "+ The mesh cells may change resolution,\n",
    "+ There are no boundary conditions (e.g., on a global or regional scale)\n",
    "\n",
    "In contrast, calculating the LEC on a regular grid provides a fixed set of neighbours (4 or 8) which are evenly spaced.\n",
    "\n",
    "This complexity means we need to define new ways to compare the LEC between points.\n",
    "\n",
    "`gLEC` takes a relatively naive approach, and simply adds up the total distance of each path into a single number. This means that points that have paths that are long (i.e., for a given amount of a fuel, the path was able to reach points further away) have higher LEC values, and points that have mostly short paths have lower LEC values.\n",
    "\n",
    "Since the paths trace out an area expanding from the initial point, the values tend to go up as the square of `max_fuel`.\n",
    "\n",
    "`gLEC` has a function: `get_total_distance_for_all_paths_to_point` for doing this calculation. It runs the same `cost_search` function we used earlier, and then adds up the path distance at the end of each path:"
   ]
  },
  {
   "cell_type": "code",
   "execution_count": null,
   "metadata": {},
   "outputs": [],
   "source": [
    "# Get a list of all the points we visted\n",
    "all_visted_points = came_from.keys()\n",
    "\n",
    "# We want a list of fully defined triangles - that is, where we visited all 3\n",
    "# vertexes of the triangle.\n",
    "neightris = []\n",
    "for p in all_visted_points:\n",
    "    # For our current point, find all the triangles it is part of\n",
    "    neightris.extend(mesh.cells_dict['triangle'][np.where(mesh.cells_dict['triangle']==p)[0]])\n",
    "neightris = np.unique(np.array(neightris), axis=0)\n",
    "\n",
    "# For each triangle the point is in, see if the other vertexs were visited in all_visited_points\n",
    "good_tris = []\n",
    "for tri in neightris:\n",
    "    if all(vertex in all_visted_points for vertex in tri):\n",
    "        # If all points in the tri have been visited, then it's a 'good tri'\n",
    "        good_tris.append(tri)\n",
    "good_tris = np.array(good_tris)\n",
    "\n",
    "def PolyArea(x,y):\n",
    "    # From https://stackoverflow.com/a/30408825\n",
    "    return 0.5*np.abs(np.dot(x,np.roll(y,1))-np.dot(y,np.roll(x,1)))\n",
    "\n",
    "# For each good triangle, calculate the area, and add it to the total\n",
    "area = 0.\n",
    "for t in good_tris:\n",
    "    points = mesh.points[t,:]\n",
    "    area += PolyArea(points[:,0], points[:,1])"
   ]
  },
  {
   "cell_type": "code",
   "execution_count": null,
   "metadata": {},
   "outputs": [],
   "source": [
    "print(area/1e6)"
   ]
  },
  {
   "cell_type": "code",
   "execution_count": null,
   "metadata": {},
   "outputs": [],
   "source": [
    "# VISUALISATION CODE\n",
    "triang = mtri.Triangulation(mesh.points[:,0], mesh.points[:,1], good_tris)\n",
    "fig, ax = plt.subplots()\n",
    "ax.triplot(triang, zorder=1)\n",
    "ax.set_aspect('equal')"
   ]
  },
  {
   "cell_type": "code",
   "execution_count": null,
   "metadata": {},
   "outputs": [],
   "source": []
  },
  {
   "cell_type": "code",
   "execution_count": null,
   "metadata": {},
   "outputs": [],
   "source": [
    "lec_value = lec_calculator.get_total_distance_for_all_paths_to_point(starting_point)"
   ]
  },
  {
   "cell_type": "code",
   "execution_count": null,
   "metadata": {},
   "outputs": [],
   "source": [
    "print(f\"{lec_value = }\")"
   ]
  },
  {
   "cell_type": "markdown",
   "metadata": {},
   "source": [
    "Great, we now have a value for LEC at the `starting_point` we chose!\n",
    "\n",
    "# Going forward\n",
    "\n",
    "Having the LEC value for a single point is only useful within a context of the LEC of other points.\n",
    "\n",
    "To do this, we need to calculate the LEC value for all the points in our mesh.\n",
    "\n",
    "We will do this in the next notebook."
   ]
  }
 ],
 "metadata": {
  "kernelspec": {
   "display_name": "Python 3",
   "language": "python",
   "name": "python3"
  },
  "language_info": {
   "codemirror_mode": {
    "name": "ipython",
    "version": 3
   },
   "file_extension": ".py",
   "mimetype": "text/x-python",
   "name": "python",
   "nbconvert_exporter": "python",
   "pygments_lexer": "ipython3",
   "version": "3.8.5"
  }
 },
 "nbformat": 4,
 "nbformat_minor": 2
}
