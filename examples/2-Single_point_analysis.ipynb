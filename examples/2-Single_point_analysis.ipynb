{
 "cells": [
  {
   "cell_type": "markdown",
   "metadata": {},
   "source": [
    "# Single point analysis of least-cost paths\n",
    "\n",
    "Here we pick a single point, somewhere in the world, and find the least-cost path to all other points.\n",
    "It is then visualised, so we can ensure things are making sense.\n",
    "\n",
    "Most of the time, we'd want to just get the cost of all paths to a point, using the `get_dist_from_point` function, but here we just look at how the algorithm works for a single point."
   ]
  },
  {
   "cell_type": "code",
   "execution_count": null,
   "metadata": {},
   "outputs": [],
   "source": [
    "import meshio\n",
    "import numpy as np\n",
    "from multiprocessing import Pool\n",
    "import time\n",
    "\n",
    "import matplotlib\n",
    "import matplotlib.pyplot as plt\n",
    "from matplotlib.path import Path\n",
    "from mpl_toolkits.axes_grid1 import make_axes_locatable\n",
    "from mpl_toolkits.axes_grid1.inset_locator import zoomed_inset_axes, mark_inset\n",
    "import matplotlib.tri as mtri\n",
    "\n",
    "label_size = 8\n",
    "matplotlib.rcParams['xtick.labelsize'] = label_size \n",
    "matplotlib.rcParams['ytick.labelsize'] = label_size\n",
    "\n",
    "%matplotlib inline\n",
    "%config InlineBackend.figure_format = 'svg' \n",
    "\n",
    "from gLEC.gLEC import gLEC"
   ]
  },
  {
   "cell_type": "markdown",
   "metadata": {},
   "source": [
    "# Load the mesh\n",
    "\n",
    "We need to load in the mesh. We can visualise it with matplotlib:"
   ]
  },
  {
   "cell_type": "code",
   "execution_count": null,
   "metadata": {},
   "outputs": [],
   "source": [
    "infile = \"output_data/AUS_LR.vtk\"\n",
    "\n",
    "mesh = meshio.read(infile)\n",
    "\n",
    "triang = mtri.Triangulation(mesh.points[:,0], mesh.points[:,1], mesh.cells[0].data)\n",
    "fig, ax = plt.subplots()\n",
    "ax.triplot(triang, zorder=1)\n",
    "ax.set_aspect('equal')"
   ]
  },
  {
   "cell_type": "markdown",
   "metadata": {},
   "source": [
    "# Create a gLEC object\n",
    "\n",
    "Here we create a gLEC object with the mesh.\n",
    "\n",
    "It's not doing very much, so let's start using it."
   ]
  },
  {
   "cell_type": "code",
   "execution_count": null,
   "metadata": {},
   "outputs": [],
   "source": [
    "lec_calculator = gLEC(mesh)"
   ]
  },
  {
   "cell_type": "markdown",
   "metadata": {},
   "source": [
    "# Pick a starting point\n",
    "\n",
    "To do a single point analysis, we need to start with a single point. \n",
    "\n",
    "We don't need a particular point, so we could do something like this:\n",
    "```python\n",
    "starting_point = 0\n",
    "```\n",
    "which would use the first point defined in the mesh. However, for this example, we want to use a slightly nicer point, so we use this simple function to find a better one:"
   ]
  },
  {
   "cell_type": "code",
   "execution_count": null,
   "metadata": {},
   "outputs": [],
   "source": [
    "starting_point = mesh.points.shape[0]//9 * 9\n",
    "print(f'Starting point index: {starting_point}')\n",
    "print(f'Starting point value:\\n{mesh.points[starting_point,:]}')"
   ]
  },
  {
   "cell_type": "markdown",
   "metadata": {},
   "source": [
    "# Find a nearby neighbour\n",
    "\n",
    "Many of the functions of the `gLEC` rely on comparing between two connected points. We can use `gLEC` to tell us which points are connected to our `starting_point`:"
   ]
  },
  {
   "cell_type": "code",
   "execution_count": null,
   "metadata": {},
   "outputs": [],
   "source": [
    "nearby_points = lec_calculator.neighbours_func(starting_point)\n",
    "print(f'Nearby points indexs: {nearby_points}')\n",
    "print(f'Nearby points values:\\n{mesh.points[nearby_points,:]}')"
   ]
  },
  {
   "cell_type": "markdown",
   "metadata": {},
   "source": [
    "## Showing the points\n",
    "\n",
    "We can show where these points are on our mesh.\n",
    "\n",
    "*NOTE* The code below is not important for using `gLEC`, but is a nice way to show the points."
   ]
  },
  {
   "cell_type": "code",
   "execution_count": null,
   "metadata": {},
   "outputs": [],
   "source": [
    "fig, ax = plt.subplots()\n",
    "\n",
    "ax.triplot(triang, zorder=1)\n",
    "\n",
    "ax.scatter(mesh.points[starting_point,0],\n",
    "           mesh.points[starting_point,1],\n",
    "           c='yellow', s =20, zorder=3)\n",
    "\n",
    "ax.scatter(mesh.points[nearby_points,0],\n",
    "           mesh.points[nearby_points,1],\n",
    "           c='orange', s =20, zorder=2)\n",
    "\n",
    "ax.set_aspect('equal')\n",
    "\n",
    "axins = zoomed_inset_axes(ax, 15, loc=2)\n",
    "axins.triplot(triang, zorder=1)\n",
    "\n",
    "axins.scatter(mesh.points[starting_point,0],\n",
    "           mesh.points[starting_point,1],\n",
    "           c='yellow', s =20, zorder=3)\n",
    "\n",
    "axins.scatter(mesh.points[nearby_points,0],\n",
    "           mesh.points[nearby_points,1],\n",
    "           c='orange', s =20, zorder=2)\n",
    "\n",
    "zoom_min = np.min(mesh.points[nearby_points,:], axis=0)\n",
    "zoom_max = np.max(mesh.points[nearby_points,:], axis=0)\n",
    "span = zoom_max - zoom_min\n",
    "zoom_min -= span * 0.5\n",
    "zoom_max += span * 0.5\n",
    "\n",
    "axins.set_xlim(zoom_min[0], zoom_max[0])\n",
    "axins.set_ylim(zoom_min[1], zoom_max[1])\n",
    "axins.xaxis.set_visible('False')\n",
    "axins.yaxis.set_visible('False')\n",
    "_ = mark_inset(ax, axins, loc1=1, loc2=4, fc=\"none\", ec=\"0.5\")"
   ]
  },
  {
   "cell_type": "markdown",
   "metadata": {},
   "source": [
    "## Picking one of the nearby points\n",
    "\n",
    "We only need one nearby point, so we'll pick the first one"
   ]
  },
  {
   "cell_type": "code",
   "execution_count": null,
   "metadata": {},
   "outputs": [],
   "source": [
    "nearby_point = nearby_points[0]\n",
    "print(f'Nearby point index: {nearby_point}')\n",
    "print(f'Nearby point value:\\n{mesh.points[nearby_point,:]}')"
   ]
  },
  {
   "cell_type": "markdown",
   "metadata": {},
   "source": [
    "## Elevation data\n",
    "\n",
    "Notice that in this case, the `Z` value has been 0 for out starting and nearby points. This is because the elevation data is stored on additional mesh variable:"
   ]
  },
  {
   "cell_type": "code",
   "execution_count": null,
   "metadata": {},
   "outputs": [],
   "source": [
    "for point in (starting_point, nearby_point):\n",
    "    print(f\"Elevation of {point = } is {mesh.point_data['Z'][point]} m\")"
   ]
  },
  {
   "cell_type": "markdown",
   "metadata": {},
   "source": [
    "# Using the gLEC calculator for comparisions\n",
    "\n",
    "The `gLEC` object has some built in calculators to help us make comparisions between points:"
   ]
  },
  {
   "cell_type": "code",
   "execution_count": null,
   "metadata": {},
   "outputs": [],
   "source": [
    "dist = lec_calculator.dist_func(starting_point, nearby_point)\n",
    "print(f\"Distance between {starting_point=} and {nearby_point=} is\\n{dist} m\\n\")\n",
    "\n",
    "cost = lec_calculator.travel_cost_func(starting_point, nearby_point)\n",
    "print(f\"The travel cost between {starting_point=} and {nearby_point=} is\\n{cost} units of fuel\")"
   ]
  },
  {
   "cell_type": "markdown",
   "metadata": {},
   "source": [
    "### Travel cost and fuel\n",
    "\n",
    "The distance function (`dist_func(starting_point, nearby_point)`) is a simple euclidean distance between the two points."
   ]
  },
  {
   "cell_type": "markdown",
   "metadata": {},
   "source": [
    "### Change the functions\n",
    "\n",
    "We can override the default functions of the LECMesh when we create it:"
   ]
  },
  {
   "cell_type": "code",
   "execution_count": null,
   "metadata": {},
   "outputs": [],
   "source": [
    "# Here is a new travel cost function, and it *only* uses elevation as a cost measure.\n",
    "def elevation_only(current, _next):\n",
    "    # Only take into account elevation changes for costs\n",
    "    if current == _next:\n",
    "        return 0\n",
    "    return int(abs(mesh.point_data['Z'][current] - mesh.point_data['Z'][_next]))"
   ]
  },
  {
   "cell_type": "code",
   "execution_count": null,
   "metadata": {},
   "outputs": [],
   "source": [
    "lm_ele = LECMesh(mesh, max_fuel = 2500, travel_cost_function = elevation_only)"
   ]
  },
  {
   "cell_type": "code",
   "execution_count": null,
   "metadata": {},
   "outputs": [],
   "source": [
    "lm_ele.travel_cost_function(starting_point, near_point)  # Test the travel_cost function between two points"
   ]
  },
  {
   "cell_type": "code",
   "execution_count": null,
   "metadata": {},
   "outputs": [],
   "source": [
    "lm_ele.dist_func(starting_point, near_point)  # Test the distance function between two points"
   ]
  },
  {
   "cell_type": "markdown",
   "metadata": {},
   "source": [
    "Note that the distance is the same, but the cost is diffent now, since the cost is now *only* the change in elevation:"
   ]
  },
  {
   "cell_type": "code",
   "execution_count": null,
   "metadata": {},
   "outputs": [],
   "source": [
    "print(\"Starting point elevation: \", mesh.point_data['Z'][starting_point])\n",
    "print(\"Nearby point elevation:   \", mesh.point_data['Z'][near_point])\n",
    "print(\"Change in elevation:      \", mesh.point_data['Z'][starting_point] - mesh.point_data['Z'][near_point])"
   ]
  },
  {
   "cell_type": "markdown",
   "metadata": {},
   "source": [
    "# Computing the least-cost paths\n",
    "\n",
    "Going back to our original `lm` LECMesh object, we can call the `cost_search` function on the `starting_point`, which shows all the paths starting at that point"
   ]
  },
  {
   "cell_type": "code",
   "execution_count": null,
   "metadata": {},
   "outputs": [],
   "source": [
    "# Do the least-cost path calculations, and get back the data\n",
    "#came_from, cost_so_far = cost_search(mesh, starting_point, travel_cost_function = travel_cost, max_distance = max_distance)\n",
    "came_from, cost_so_far, dist_so_far = lm.cost_search(starting_point)"
   ]
  },
  {
   "cell_type": "markdown",
   "metadata": {},
   "source": [
    "Now let's see the data structures that come out of that function\n",
    "\n",
    "### came_from\n",
    "`came_from` is a dictionary, where the keys are point IDs, and the value is the point ID of the point it came_from."
   ]
  },
  {
   "cell_type": "code",
   "execution_count": null,
   "metadata": {},
   "outputs": [],
   "source": [
    "# Show some of the came_from data structure\n",
    "count = 0\n",
    "num_points_to_show = 80\n",
    "for point, preceeding_point in came_from.items():\n",
    "    print(str(point) + \"\\tcame from\\t\" + str(preceeding_point))\n",
    "    if count > num_points_to_show:\n",
    "        break\n",
    "    count +=1"
   ]
  },
  {
   "cell_type": "markdown",
   "metadata": {},
   "source": [
    "You can see above that point `66772` \"came_from\" `None`, since it was the initial point. \n",
    "\n",
    "This also means you can pick a point, and follow it back until you reach the starting point, AKA, when the `came_from` value is `None`.\n",
    "In this case, we'll pick a point from the end of the list of points using: `list(came_from.keys())[-1]`"
   ]
  },
  {
   "cell_type": "code",
   "execution_count": null,
   "metadata": {},
   "outputs": [],
   "source": [
    "point = came_from[list(came_from.keys())[-1]]  # choose a start point"
   ]
  },
  {
   "cell_type": "code",
   "execution_count": null,
   "metadata": {},
   "outputs": [],
   "source": [
    "# follow a single path back to the origin point\n",
    "current_point = point\n",
    "while current_point:   # while point is not None\n",
    "    print(str(current_point), end=\"\")\n",
    "    \n",
    "    # Update the current point to follow the came_from\n",
    "    current_point = came_from[current_point]\n",
    "    \n",
    "    if current_point:\n",
    "        print(\" -> \", end=\"\")"
   ]
  },
  {
   "cell_type": "markdown",
   "metadata": {},
   "source": [
    "### cost_so_far\n",
    "\n",
    "`cost_so_far` is also a dictionary, where the keys are point IDs, and the value is total cost it has taken to reach that point, from the starting point"
   ]
  },
  {
   "cell_type": "code",
   "execution_count": null,
   "metadata": {},
   "outputs": [],
   "source": [
    "# the cost to get from the starting point to the point we picked\n",
    "print(cost_so_far[point])"
   ]
  },
  {
   "cell_type": "code",
   "execution_count": null,
   "metadata": {},
   "outputs": [],
   "source": [
    "# Show the progressive cost of going from a point to the starting point\n",
    "current_point = point\n",
    "while current_point:   # while point is not None\n",
    "    print(str(cost_so_far[current_point]), end=\"\")\n",
    "    current_point = came_from[current_point]\n",
    "    if current_point:\n",
    "        print(\" -> \", end=\"\")"
   ]
  },
  {
   "cell_type": "markdown",
   "metadata": {},
   "source": [
    "### dist_so_far\n",
    "\n",
    "`dist_so_far` is the same structure as `cost_so_far`, but it shows the length of a path up to that point."
   ]
  },
  {
   "cell_type": "code",
   "execution_count": null,
   "metadata": {},
   "outputs": [],
   "source": [
    "print(dist_so_far[point])"
   ]
  },
  {
   "cell_type": "code",
   "execution_count": null,
   "metadata": {},
   "outputs": [],
   "source": [
    "# Show the progressive distance of going from a point to the starting point\n",
    "current_point = point\n",
    "while current_point:   # while point is not None\n",
    "    print(str(dist_so_far[current_point]), end=\"\")\n",
    "    current_point = came_from[current_point]\n",
    "    if current_point:\n",
    "        print(\" -> \", end=\"\")"
   ]
  },
  {
   "cell_type": "markdown",
   "metadata": {},
   "source": [
    "We can also find the longest path possible with the given max_fuel"
   ]
  },
  {
   "cell_type": "code",
   "execution_count": null,
   "metadata": {},
   "outputs": [],
   "source": [
    "print(\"Longest path: {:.3f} km\".format(max(dist_so_far.values())/1000))"
   ]
  },
  {
   "cell_type": "markdown",
   "metadata": {},
   "source": [
    "## Show a map of all shortest paths\n",
    "\n",
    "Since all paths have to lead back to the starting point, we can map out each of their paths by finding edge nodes, and then following the `came_from` paths back to the starting point."
   ]
  },
  {
   "cell_type": "code",
   "execution_count": null,
   "metadata": {},
   "outputs": [],
   "source": [
    "# Find all the nodes that are at the edge of the tree\n",
    "edge_nodes = []\n",
    "\n",
    "for k in came_from.keys():             # For all the points we've visited,\n",
    "    if k not in came_from.values():    # Find all the points that haven't been 'came_from'\n",
    "        edge_nodes.append(k)\n",
    "        \n",
    "print(edge_nodes)"
   ]
  },
  {
   "cell_type": "code",
   "execution_count": null,
   "metadata": {},
   "outputs": [],
   "source": [
    "# For each edge node, follow the path back to the starting point, and keep track of the points and costs along the way\n",
    "paths = []\n",
    "costs = []\n",
    "dists = []\n",
    "for p in edge_nodes:\n",
    "    point = p\n",
    "    cost = 0\n",
    "    new_points = []\n",
    "    new_costs = []\n",
    "    while point:\n",
    "        new_points.append(mesh.points[point])  # note, the points are being pulled from the VTK, so we get all their info\n",
    "        new_costs.append(cost_so_far[point])\n",
    "        point = came_from[point]\n",
    "\n",
    "    new_points = np.array(new_points)\n",
    "    new_costs  = np.array(new_costs)\n",
    "    paths.append(new_points)\n",
    "    costs.append(new_costs)"
   ]
  },
  {
   "cell_type": "code",
   "execution_count": null,
   "metadata": {},
   "outputs": [],
   "source": [
    "total_dist = 0\n",
    "for k in came_from.keys():             # For all the points we've visited,\n",
    "    if k not in came_from.values():    # Find all the points that haven't been 'came_from'\n",
    "        total_dist += dist_so_far[k]\n",
    "print(total_dist)"
   ]
  },
  {
   "cell_type": "code",
   "execution_count": null,
   "metadata": {
    "scrolled": false
   },
   "outputs": [],
   "source": [
    "# Visualise all the paths back to the starting point, with colours showing the cost along the way\n",
    "\n",
    "%matplotlib notebook\n",
    "import matplotlib.pyplot as plt\n",
    "\n",
    "norm = plt.Normalize(0, max_cost)\n",
    "for p, c in zip(paths, costs):    \n",
    "    plt.plot(p[:,0], p[:,1], c='k', zorder=0)\n",
    "    plt.scatter(p[:,0], p[:,1], c=c, norm=norm, zorder=1)\n",
    "    \n",
    "plt.colorbar()"
   ]
  },
  {
   "cell_type": "code",
   "execution_count": null,
   "metadata": {
    "scrolled": false
   },
   "outputs": [],
   "source": [
    "# Visualise all the paths back to the starting point, with colours showing the cost along the way\n",
    "# In 3D - depending on where you pick on the globae, the 2D can come out all squished. 3D avoids this.\n",
    "%matplotlib notebook\n",
    "import matplotlib.pyplot as plt\n",
    "from mpl_toolkits.mplot3d import Axes3D\n",
    "\n",
    "fig = plt.figure()\n",
    "ax = fig.add_subplot(111, projection='3d')\n",
    "\n",
    "norm = plt.Normalize(0, max_cost)\n",
    "for p, c in zip(paths, costs):    \n",
    "    ax.plot(p[:,0], p[:,1], p[:,2], c='k', zorder=0)\n",
    "    ax.scatter(p[:,0], p[:,1], p[:,2], c=c, norm=norm, zorder=1)\n",
    "    \n",
    "#plt.colorbar()\n",
    "#plt.axes().set_aspect('equal', 'datalim')"
   ]
  },
  {
   "cell_type": "code",
   "execution_count": null,
   "metadata": {},
   "outputs": [],
   "source": []
  },
  {
   "cell_type": "code",
   "execution_count": null,
   "metadata": {},
   "outputs": [],
   "source": []
  },
  {
   "cell_type": "code",
   "execution_count": null,
   "metadata": {},
   "outputs": [],
   "source": []
  }
 ],
 "metadata": {
  "kernelspec": {
   "display_name": "Python 3",
   "language": "python",
   "name": "python3"
  },
  "language_info": {
   "codemirror_mode": {
    "name": "ipython",
    "version": 3
   },
   "file_extension": ".py",
   "mimetype": "text/x-python",
   "name": "python",
   "nbconvert_exporter": "python",
   "pygments_lexer": "ipython3",
   "version": "3.8.5"
  }
 },
 "nbformat": 4,
 "nbformat_minor": 2
}
