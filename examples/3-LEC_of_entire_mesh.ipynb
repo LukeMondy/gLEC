{
 "cells": [
  {
   "cell_type": "markdown",
   "metadata": {},
   "source": [
    "# Landscape Elevation Connectivity of an entire mesh\n",
    "\n",
    "Here the goal is to expand on the work done in the previous notebook (2-Landscape_Elevation_Connectivity_of_a_single_point) by running the LEC calculation across an entire mesh.\n",
    "\n",
    "This notebook will show you how to load a mesh into gLEC and run a LEC calculation for every point.\n",
    "\n",
    "This notebook includes a lot of code for visualising the mesh, and the point on it. These bits of code are not necessary for using gLEC, so feel free to skip reading those code chunks. They will be marked as:\n",
    "```python\n",
    "# VISUALISATION CODE\n",
    "```"
   ]
  },
  {
   "cell_type": "code",
   "execution_count": null,
   "metadata": {},
   "outputs": [],
   "source": [
    "import meshio\n",
    "import numpy as np\n",
    "from multiprocessing import Pool\n",
    "import time\n",
    "\n",
    "import matplotlib\n",
    "import matplotlib.pyplot as plt\n",
    "from matplotlib.path import Path\n",
    "from mpl_toolkits.axes_grid1 import make_axes_locatable\n",
    "from mpl_toolkits.axes_grid1.inset_locator import zoomed_inset_axes, mark_inset\n",
    "import matplotlib.tri as mtri\n",
    "\n",
    "label_size = 8\n",
    "matplotlib.rcParams['xtick.labelsize'] = label_size \n",
    "matplotlib.rcParams['ytick.labelsize'] = label_size\n",
    "\n",
    "%matplotlib inline\n",
    "%config InlineBackend.figure_format = 'svg' \n",
    "\n",
    "from gLEC.gLEC import gLEC"
   ]
  },
  {
   "cell_type": "markdown",
   "metadata": {},
   "source": [
    "# Load the mesh and create a `gLEC` object\n",
    "\n",
    "Here we will follow very similar steps as the previous notebook, and so we will skip over the details for brevity."
   ]
  },
  {
   "cell_type": "code",
   "execution_count": null,
   "metadata": {},
   "outputs": [],
   "source": [
    "infile = \"output_data/AUS_LR.vtk\"\n",
    "\n",
    "mesh = meshio.read(infile)\n",
    "\n",
    "# VISUALISATION CODE\n",
    "triang = mtri.Triangulation(mesh.points[:,0], mesh.points[:,1], mesh.cells[0].data)\n",
    "fig, ax = plt.subplots()\n",
    "ax.triplot(triang, zorder=1)\n",
    "ax.set_aspect('equal')"
   ]
  },
  {
   "cell_type": "code",
   "execution_count": null,
   "metadata": {},
   "outputs": [],
   "source": [
    "# create a gLEC object\n",
    "lec_calculator = gLEC(mesh)"
   ]
  },
  {
   "cell_type": "markdown",
   "metadata": {},
   "source": [
    "# Run the LEC calculation on all points\n",
    "\n",
    "In the previous notebook, we chose a single point to run the LEC calculation. Now we want to run it on all the points in the mesh, so we can see how the LEC values change in space.\n",
    "\n",
    "To do this, we need to first do some filtering on our points: we only care about points above sea level. In some cases, the mesh will already have all points above sea-level."
   ]
  },
  {
   "cell_type": "code",
   "execution_count": null,
   "metadata": {},
   "outputs": [],
   "source": [
    "valid_starting_points = np.nonzero(mesh.point_data['Z'] >= 0)[0]"
   ]
  },
  {
   "cell_type": "code",
   "execution_count": null,
   "metadata": {},
   "outputs": [],
   "source": [
    "print(f\"Total possible starting points:  {mesh.points.shape[0]}\")\n",
    "print(f\"Starting points above sea level: {valid_starting_points.shape[0]}\")"
   ]
  },
  {
   "cell_type": "markdown",
   "metadata": {},
   "source": [
    "## LEC for all points\n",
    "\n",
    "Now to run on all points:\n"
   ]
  },
  {
   "cell_type": "code",
   "execution_count": null,
   "metadata": {},
   "outputs": [],
   "source": [
    "def calc_area(point):\n",
    "    came_from, cost_so_far, dist_so_far = lec_calculator.cost_search(point)\n",
    "    \n",
    "    # Get a list of all the points we visted\n",
    "    all_visted_points = came_from.keys()\n",
    "\n",
    "    # We want a list of fully defined triangles - that is, where we visited all 3\n",
    "    # vertexes of the triangle.\n",
    "    neightris = []\n",
    "    for p in all_visted_points:\n",
    "        # For our current point, find all the triangles it is part of\n",
    "        neightris.extend(mesh.cells_dict['triangle'][np.where(mesh.cells_dict['triangle']==p)[0]])\n",
    "    neightris = np.unique(np.array(neightris), axis=0)\n",
    "\n",
    "    # For each triangle the point is in, see if the other vertexs were visited in all_visited_points\n",
    "    good_tris = []\n",
    "    for tri in neightris:\n",
    "        if all(vertex in all_visted_points for vertex in tri):\n",
    "            # If all points in the tri have been visited, then it's a 'good tri'\n",
    "            good_tris.append(tri)\n",
    "    good_tris = np.array(good_tris)\n",
    "\n",
    "    def PolyArea(x,y):\n",
    "        # From https://stackoverflow.com/a/30408825\n",
    "        return 0.5*np.abs(np.dot(x,np.roll(y,1))-np.dot(y,np.roll(x,1)))\n",
    "\n",
    "    # For each good triangle, calculate the area, and add it to the total\n",
    "    area = 0.\n",
    "    for t in good_tris:\n",
    "        points = mesh.points[t,:]\n",
    "        area += PolyArea(points[:,0], points[:,1])\n",
    "        \n",
    "    return (point, area)"
   ]
  },
  {
   "cell_type": "code",
   "execution_count": null,
   "metadata": {},
   "outputs": [],
   "source": [
    "LEC_vals = []\n",
    "factor = 0.0\n",
    "\n",
    "for i, p in enumerate(valid_starting_points):\n",
    "    \n",
    "    LEC_vals.append(calc_area(p))\n",
    "    \n",
    "    # Print out the percentage complete, every 10% done.\n",
    "    if i >= valid_starting_points.shape[0] * factor:\n",
    "        print(f\"{factor * 100}% complete\")\n",
    "        factor += 0.1\n",
    "print(\"Done\")"
   ]
  },
  {
   "cell_type": "code",
   "execution_count": null,
   "metadata": {},
   "outputs": [],
   "source": []
  },
  {
   "cell_type": "code",
   "execution_count": null,
   "metadata": {},
   "outputs": [],
   "source": [
    "mesh.point_data['LEC'] = np.zeros_like(mesh.point_data['Z'])\n",
    "for point, val in LEC_vals:\n",
    "    mesh.point_data['LEC'][point] = val\n",
    "#meshio.write(outfile, mesh)"
   ]
  },
  {
   "cell_type": "code",
   "execution_count": null,
   "metadata": {},
   "outputs": [],
   "source": [
    "fig, ax = plt.subplots(figsize=(12,15))\n",
    "ax.set_aspect('equal')\n",
    "\n",
    "_= ax.tripcolor(triang, mesh.point_data['LEC'], edgecolors='none')"
   ]
  },
  {
   "cell_type": "code",
   "execution_count": null,
   "metadata": {},
   "outputs": [],
   "source": []
  }
 ],
 "metadata": {
  "kernelspec": {
   "display_name": "Python 3",
   "language": "python",
   "name": "python3"
  },
  "language_info": {
   "codemirror_mode": {
    "name": "ipython",
    "version": 3
   },
   "file_extension": ".py",
   "mimetype": "text/x-python",
   "name": "python",
   "nbconvert_exporter": "python",
   "pygments_lexer": "ipython3",
   "version": "3.8.5"
  }
 },
 "nbformat": 4,
 "nbformat_minor": 2
}
