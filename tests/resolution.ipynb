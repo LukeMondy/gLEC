{
 "cells": [
  {
   "cell_type": "code",
   "execution_count": null,
   "metadata": {},
   "outputs": [],
   "source": [
    "import meshio\n",
    "import numpy as np\n",
    "from scipy.interpolate import RectBivariateSpline\n",
    "import jigsawpy\n",
    "import os\n",
    "import matplotlib\n",
    "import matplotlib.tri as mtri\n",
    "import matplotlib.pyplot as plt\n",
    "%matplotlib inline\n",
    "\n",
    "\n",
    "from gLEC.gLEC import gLEC"
   ]
  },
  {
   "cell_type": "code",
   "execution_count": null,
   "metadata": {},
   "outputs": [],
   "source": [
    "minx, maxx = -1e6, 1e6\n",
    "miny, maxy = -1e6, 1e6\n",
    "minz, maxz = 0., 4000.\n",
    "dst_path = \"outputs\"\n"
   ]
  },
  {
   "cell_type": "code",
   "execution_count": null,
   "metadata": {},
   "outputs": [],
   "source": [
    "def create_square_mesh(mesh_percentage_max_size):\n",
    "\n",
    "    opts = jigsawpy.jigsaw_jig_t()\n",
    "\n",
    "    geom = jigsawpy.jigsaw_msh_t()\n",
    "    mesh = jigsawpy.jigsaw_msh_t()\n",
    "\n",
    "    #------------------------------------ define JIGSAW geometry\n",
    "\n",
    "    geom.mshID = \"euclidean-mesh\"\n",
    "    geom.ndims = +2\n",
    "    geom.vert2 = np.array([   # list of xy \"node\" coordinate\n",
    "        ((minx, miny), 0),          # outer square\n",
    "        ((maxx, miny), 0),\n",
    "        ((maxx, maxy), 0),\n",
    "        ((minx, maxy), 0),],\n",
    "        dtype=geom.VERT2_t)\n",
    "\n",
    "    geom.edge2 = np.array([   # list of \"edges\" between vert\n",
    "        ((0, 1), 0),          # outer square\n",
    "        ((1, 2), 0),\n",
    "        ((2, 3), 0),\n",
    "        ((3, 0), 0),],\n",
    "        dtype=geom.EDGE2_t)\n",
    "\n",
    "    #------------------------------------ build mesh via JIGSAW!\n",
    "\n",
    "    opts.hfun_hmax = mesh_percentage_max_size\n",
    "\n",
    "    opts.mesh_dims = +2                 # 2-dim. simplexes\n",
    "\n",
    "    opts.optm_qlim = +.95\n",
    "\n",
    "    opts.mesh_top1 = True               # for sharp feat's\n",
    "    opts.geom_feat = True\n",
    "\n",
    "    jigsawpy.lib.jigsaw(opts, geom, mesh)\n",
    "\n",
    "    scr2 = jigsawpy.triscr2(            # \"quality\" metric\n",
    "        mesh.point[\"coord\"],\n",
    "        mesh.tria3[\"index\"])\n",
    "    \n",
    "    z = (mesh.point['coord'][:,0]/((maxx-minx)))**2 + (mesh.point['coord'][:,1]/((maxy-miny)))**2\n",
    "    z = max(z) - z\n",
    "    print(max(z), min(z))\n",
    "\n",
    "    z[z<0.4] = 0.\n",
    "    z = np.sin(z)\n",
    "    z = ((z - np.min(z)) / (np.max(z) - np.min(z))) * (maxz - minz) + minz\n",
    "    #z = np.ones_like(z)\n",
    "    outmesh = meshio.Mesh(mesh.point['coord'], {'triangle': mesh.tria3['index']}, {'Z':z})\n",
    "    \n",
    "    return outmesh"
   ]
  },
  {
   "cell_type": "code",
   "execution_count": null,
   "metadata": {},
   "outputs": [],
   "source": [
    "meshes = [create_square_mesh(0.06), create_square_mesh(0.04), create_square_mesh(0.02)]\n",
    "\n",
    "fig, axes = plt.subplots(1, len(meshes), figsize=(15,5))\n",
    "\n",
    "for i, mesh in enumerate(meshes):\n",
    "    triang = mtri.Triangulation(mesh.points[:,0], mesh.points[:,1], mesh.cells[0].data)\n",
    "    axes[i].triplot(triang)\n",
    "    axes[i].set_aspect('equal')      \n",
    "\n",
    "fig, axes = plt.subplots(1, len(meshes), figsize=(15,5))\n",
    "for i, mesh in enumerate(meshes):\n",
    "    triang = mtri.Triangulation(mesh.points[:,0], mesh.points[:,1], mesh.cells[0].data)\n",
    "    _= axes[i].tripcolor(triang, mesh.point_data['Z'], edgecolors='none')    \n",
    "    axes[i].set_aspect('equal')  "
   ]
  },
  {
   "cell_type": "code",
   "execution_count": null,
   "metadata": {},
   "outputs": [],
   "source": [
    "glecs = [gLEC(mesh=mesh, max_fuel=2000) for mesh in meshes]\n",
    "\n",
    "for g in glecs:\n",
    "    print(g.normalised_area, g.max_fuel / g.horizontal_distance_cost_weight)\n",
    "\n",
    "print((maxx-minx) * (maxy-miny))"
   ]
  },
  {
   "cell_type": "code",
   "execution_count": null,
   "metadata": {
    "scrolled": false
   },
   "outputs": [],
   "source": [
    "fig, axes = plt.subplots(1, len(meshes), figsize=(15,5))\n",
    "\n",
    "for i, (mesh, glec) in enumerate(zip(meshes, glecs)):\n",
    "    LEC_vals = []\n",
    "    factor = 0.0\n",
    "\n",
    "    for p in range(0, mesh.points.shape[0]):\n",
    "        #LEC_vals.append((p, glec.get_normalised_area_covered_by_all_paths(p)))\n",
    "        LEC_vals.append((p, glec.get_area_covered_by_all_paths(p)))\n",
    "\n",
    "        # Print out the percentage complete, every 10% done.\n",
    "        if p >= mesh.points.shape[0] * factor:\n",
    "            print(f\"{int(factor * 100):>3}% complete\")\n",
    "            factor += 0.1\n",
    "    print(\"Done\")\n",
    "\n",
    "    mesh.point_data['LEC'] = np.zeros_like(mesh.point_data['Z'])\n",
    "    for point, val in LEC_vals:\n",
    "        mesh.point_data['LEC'][point] = val\n",
    "        \n",
    "    axes[i].set_aspect('equal')\n",
    "    triang = mtri.Triangulation(mesh.points[:,0], mesh.points[:,1], mesh.cells[0].data)\n",
    "    _= axes[i].tripcolor(triang, mesh.point_data['LEC'], edgecolors='none')\n"
   ]
  },
  {
   "cell_type": "code",
   "execution_count": null,
   "metadata": {},
   "outputs": [],
   "source": []
  },
  {
   "cell_type": "code",
   "execution_count": null,
   "metadata": {},
   "outputs": [],
   "source": []
  }
 ],
 "metadata": {
  "kernelspec": {
   "display_name": "Python 3",
   "language": "python",
   "name": "python3"
  },
  "language_info": {
   "codemirror_mode": {
    "name": "ipython",
    "version": 3
   },
   "file_extension": ".py",
   "mimetype": "text/x-python",
   "name": "python",
   "nbconvert_exporter": "python",
   "pygments_lexer": "ipython3",
   "version": "3.8.5"
  }
 },
 "nbformat": 4,
 "nbformat_minor": 4
}
